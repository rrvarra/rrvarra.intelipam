{
 "cells": [
  {
   "cell_type": "code",
   "execution_count": 19,
   "metadata": {},
   "outputs": [],
   "source": [
    "import pickle\n",
    "from pathlib import Path\n",
    "import json"
   ]
  },
  {
   "cell_type": "code",
   "execution_count": 4,
   "metadata": {},
   "outputs": [],
   "source": [
    "range_file = Path('/tmp/intel_ipam_ranges_rrvarra.pkl')\n",
    "with range_file.open('rb') as fd:\n",
    "    result = pickle.load(fd)\n"
   ]
  },
  {
   "cell_type": "code",
   "execution_count": 10,
   "metadata": {},
   "outputs": [],
   "source": [
    "ranges = result['result']['ranges']"
   ]
  },
  {
   "cell_type": "code",
   "execution_count": null,
   "metadata": {},
   "outputs": [],
   "source": []
  },
  {
   "cell_type": "code",
   "execution_count": 22,
   "metadata": {},
   "outputs": [
    {
     "name": "stdout",
     "output_type": "stream",
     "text": [
      "After /0 drop 61634 61631\n",
      "After CustProp Check 61634 61631\n",
      "After CustProp['Status'] Check 61634 61630\n",
      "After CustProp['Status'] Validity Check 61634 36480\n"
     ]
    }
   ],
   "source": [
    "vrs = [ri for ri in ranges if not (ri['name'] == '::/0' or ri['name'].startswith('0.0.0.0/'))]\n",
    "print(\"After /0 drop\", len(ranges), len(vrs))\n",
    "vrs = [ri for ri in vrs if ri.get('customProperties')]\n",
    "print(\"After CustProp Check\", len(ranges), len(vrs))\n",
    "vrs = [ri for ri in vrs if ri['customProperties'].get('Status')]\n",
    "print(\"After CustProp['Status'] Check\", len(ranges), len(vrs))\n",
    "\n",
    "valid_status = {'Assigned', 'Discovered', 'Logical-group'}\n",
    "bad_vrs = [ri for ri in vrs if ri['customProperties']['Status'] not in valid_status]\n",
    "vrs = [ri for ri in vrs if ri['customProperties']['Status'] in valid_status]\n",
    "print(\"After CustProp['Status'] Validity Check\", len(ranges), len(vrs))\n"
   ]
  },
  {
   "cell_type": "code",
   "execution_count": 26,
   "metadata": {},
   "outputs": [
    {
     "name": "stdout",
     "output_type": "stream",
     "text": [
      "[\n",
      "  {\n",
      "    \"ref\": \"Ranges/4898\",\n",
      "    \"name\": \"10.1.3.128/25\",\n",
      "    \"from\": \"10.1.3.128\",\n",
      "    \"to\": \"10.1.3.255\",\n",
      "    \"parentRef\": \"Ranges/21563\",\n",
      "    \"adSiteRef\": \"ADSites/768\",\n",
      "    \"adSiteDisplayName\": \"FM-Internal\",\n",
      "    \"childRanges\": [],\n",
      "    \"dhcpScopes\": [],\n",
      "    \"subnet\": true,\n",
      "    \"locked\": false,\n",
      "    \"autoAssign\": true,\n",
      "    \"hasSchedule\": false,\n",
      "    \"hasMonitor\": false,\n",
      "    \"customProperties\": {\n",
      "      \"Last Seen\": \"2024-11-11 00:00\",\n",
      "      \"Netmask\": \"255.255.255.128\",\n",
      "      \"Title\": \"FM7 Core B IPLM #2\",\n",
      "      \"Environment\": \"EDC (Enterprise Data Center)\",\n",
      "      \"Description\": \"Netmask: 255.255.255.128\",\n",
      "      \"Country\": \"UNITED STATES\",\n",
      "      \"RouteAdvertised\": \"INTERNAL\",\n",
      "      \"SiteName\": \"California, Folsom\",\n",
      "      \"SiteCode\": \"FM\",\n",
      "      \"BuildingCode\": \"FM7 (Folsom 7)\",\n",
      "      \"DNSCode\": \"fm.intel.com\",\n",
      "      \"Gateway\": \"10.1.3.129\",\n",
      "      \"Vlan\": \"797\",\n",
      "      \"Function\": \"SVR (Servers)\",\n",
      "      \"Routers\": \"fm72d-zcr101c fm72d-zcr101d\",\n",
      "      \"Location\": \"Env=EDC(Enterprise/Hub Data Center Network):Region=AMR:Country=USA:Site=FM:Campus=FM:Building=FM7\",\n",
      "      \"SysContact\": \"PDL=it.netsol.dc.hub@intel.com\",\n",
      "      \"Status\": \"Discovered\",\n",
      "      \"Region\": \"AMR\",\n",
      "      \"IsTopLevel\": \"0\"\n",
      "    },\n",
      "    \"inheritAccess\": false,\n",
      "    \"isContainer\": false,\n",
      "    \"utilizationPercentage\": 26,\n",
      "    \"hasRogueAddresses\": false,\n",
      "    \"discoveredProperties\": [\n",
      "      {\n",
      "        \"routerName\": \"fm72d-zsl101a.cps.intel.com\",\n",
      "        \"gateway\": \"0.0.0.0\",\n",
      "        \"interfaceID\": 0,\n",
      "        \"interfaceName\": \"Vlan797\",\n",
      "        \"VLANID\": 797,\n",
      "        \"interfaceDescription\": \"10.1.3.128/25_G_IPLM2\",\n",
      "        \"VRFName\": \"Vlan797\"\n",
      "      },\n",
      "      {\n",
      "        \"routerName\": \"fm72d-zsl101b.cps.intel.com\",\n",
      "        \"gateway\": \"0.0.0.0\",\n",
      "        \"interfaceID\": 0,\n",
      "        \"interfaceName\": \"Vlan797\",\n",
      "        \"VLANID\": 797,\n",
      "        \"interfaceDescription\": \"10.1.3.128/25_G_IPLM2\",\n",
      "        \"VRFName\": \"Vlan797\"\n",
      "      }\n",
      "    ],\n",
      "    \"lastModified\": \"Mar 4, 2024 16:52:44\",\n",
      "    \"folderRef\": \"Folders/253\"\n",
      "  },\n",
      "  {\n",
      "    \"ref\": \"Ranges/4905\",\n",
      "    \"name\": \"10.1.4.0/22\",\n",
      "    \"from\": \"10.1.4.0\",\n",
      "    \"to\": \"10.1.7.255\",\n",
      "    \"parentRef\": \"Ranges/3275\",\n",
      "    \"adSiteRef\": \"ADSites/768\",\n",
      "    \"adSiteDisplayName\": \"FM-Internal\",\n",
      "    \"childRanges\": [\n",
      "      {\n",
      "        \"ref\": \"Ranges/120558\",\n",
      "        \"objType\": \"Ranges\",\n",
      "        \"name\": \"10.1.4.0/24\"\n",
      "      }\n",
      "    ],\n",
      "    \"dhcpScopes\": [],\n",
      "    \"subnet\": true,\n",
      "    \"locked\": false,\n",
      "    \"autoAssign\": true,\n",
      "    \"hasSchedule\": false,\n",
      "    \"hasMonitor\": true,\n",
      "    \"customProperties\": {\n",
      "      \"Last Seen\": \"2024-11-11 00:00\",\n",
      "      \"Region\": \"AMR\",\n",
      "      \"Netmask\": \"255.255.252.0\",\n",
      "      \"IsTopLevel\": \"0\",\n",
      "      \"Environment\": \"EDC (Enterprise Data Center)\",\n",
      "      \"Title\": \"FM7 Core B Loadrunner Stress Net\",\n",
      "      \"Country\": \"UNITED STATES\",\n",
      "      \"Description\": \"Netmask: 255.255.252.0\\nIPs dynamically used by LR clients on 10.18.45.0/24 network.\\n\\nadsites:ed-fm-internal\",\n",
      "      \"SiteName\": \"California, Folsom\",\n",
      "      \"RouteAdvertised\": \"INTERNAL\",\n",
      "      \"Status\": \"Discovered\",\n",
      "      \"SiteCode\": \"FM\",\n",
      "      \"BuildingCode\": \"FM7 (Folsom 7)\",\n",
      "      \"DNSCode\": \"fm.intel.com\",\n",
      "      \"Gateway\": \"10.1.4.1\",\n",
      "      \"Vlan\": \"826\",\n",
      "      \"Function\": \"SVR (Servers)\",\n",
      "      \"Routers\": \"fm72d-zcr101c fm72d-zcr101d\",\n",
      "      \"Location\": \"Env=EDC(Enterprise/Hub Data Center Network):Region=AMR:Country=USA:Site=FM:Campus=FM:Building=FM7\",\n",
      "      \"SysContact\": \"PDL=it.netsol.dc.hub@intel.com\"\n",
      "    },\n",
      "    \"inheritAccess\": false,\n",
      "    \"isContainer\": false,\n",
      "    \"hasRogueAddresses\": false,\n",
      "    \"discoveredProperties\": [\n",
      "      {\n",
      "        \"routerName\": \"fm72d-zsl101a.cps.intel.com\",\n",
      "        \"gateway\": \"0.0.0.0\",\n",
      "        \"interfaceID\": 0,\n",
      "        \"interfaceName\": \"Vlan826\",\n",
      "        \"VLANID\": 826,\n",
      "        \"interfaceDescription\": \"10.1.4.0/22_G_Stress-Test\",\n",
      "        \"VRFName\": \"Vlan826\"\n",
      "      },\n",
      "      {\n",
      "        \"routerName\": \"fm72d-zsl101b.cps.intel.com\",\n",
      "        \"gateway\": \"0.0.0.0\",\n",
      "        \"interfaceID\": 0,\n",
      "        \"interfaceName\": \"Vlan826\",\n",
      "        \"VLANID\": 826,\n",
      "        \"interfaceDescription\": \"10.1.4.0/22_G_Stress-Test\",\n",
      "        \"VRFName\": \"Vlan826\"\n",
      "      }\n",
      "    ],\n",
      "    \"lastModified\": \"Mar 4, 2024 16:52:44\",\n",
      "    \"folderRef\": \"Folders/253\"\n",
      "  }\n",
      "]\n"
     ]
    }
   ],
   "source": [
    "print(json.dumps(vrs[10:12], indent=2))"
   ]
  },
  {
   "cell_type": "code",
   "execution_count": 25,
   "metadata": {},
   "outputs": [
    {
     "data": {
      "text/plain": [
       "{'Discovered', 'Logical-group', None, 'Reserved', 'Undiscovered'}"
      ]
     },
     "execution_count": 25,
     "metadata": {},
     "output_type": "execute_result"
    }
   ],
   "source": [
    "set(ri.get('customProperties', {}).get('Status') for ri in ranges)"
   ]
  },
  {
   "cell_type": "code",
   "execution_count": null,
   "metadata": {},
   "outputs": [],
   "source": []
  }
 ],
 "metadata": {
  "kernelspec": {
   "display_name": ".venv",
   "language": "python",
   "name": "python3"
  },
  "language_info": {
   "codemirror_mode": {
    "name": "ipython",
    "version": 3
   },
   "file_extension": ".py",
   "mimetype": "text/x-python",
   "name": "python",
   "nbconvert_exporter": "python",
   "pygments_lexer": "ipython3",
   "version": "3.12.7"
  }
 },
 "nbformat": 4,
 "nbformat_minor": 2
}
